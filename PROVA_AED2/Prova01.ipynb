{
 "cells": [
  {
   "cell_type": "markdown",
   "id": "57072167-180d-4d86-bf34-b30566515f2b",
   "metadata": {},
   "source": [
    "## Implementação Inicial"
   ]
  },
  {
   "cell_type": "code",
   "execution_count": 1,
   "id": "a4c3122d-1a4d-417c-b7d8-8481e88c25ba",
   "metadata": {},
   "outputs": [],
   "source": [
    "class No:\n",
    "    def __init__(self, valor):\n",
    "        self.valor = valor\n",
    "        self.proximo = None"
   ]
  },
  {
   "cell_type": "code",
   "execution_count": 3,
   "id": "c1a58967-02f6-48a4-ac14-86a3b617b7de",
   "metadata": {},
   "outputs": [],
   "source": [
    "class ListaEncadeada:\n",
    "    def __init__(self):\n",
    "        self.inicio = None\n",
    "\n",
    "    def inserir(self, valor):\n",
    "        novo_no = No(valor)\n",
    "        if self.inicio is None:\n",
    "            self.inicio = novo_no\n",
    "        else:\n",
    "            atual = self.inicio\n",
    "            while atual.proximo:\n",
    "                atual = atual.proximo\n",
    "            atual.proximo = novo_no\n",
    "\n",
    "    def contar(self):\n",
    "        contador = 0\n",
    "        atual = self.inicio\n",
    "        while atual:\n",
    "            contador += 1\n",
    "            atual = atual.proximo\n",
    "        return contador"
   ]
  },
  {
   "cell_type": "markdown",
   "id": "0f4b8c06-02ed-490e-9311-5ca706e67a2c",
   "metadata": {},
   "source": [
    "## Exemplo de Entrada e Saída"
   ]
  },
  {
   "cell_type": "code",
   "execution_count": 5,
   "id": "0d9cd4ed-ef33-4913-9d49-63ca97a2e3b2",
   "metadata": {},
   "outputs": [
    {
     "name": "stdout",
     "output_type": "stream",
     "text": [
      "3\n"
     ]
    }
   ],
   "source": [
    "lista = ListaEncadeada()\n",
    "lista.inserir(5)\n",
    "lista.inserir(15)\n",
    "lista.inserir(25)\n",
    "\n",
    "print(lista.contar())"
   ]
  },
  {
   "cell_type": "code",
   "execution_count": null,
   "id": "69ded732-88bf-4828-8974-e7c1f2fcb01a",
   "metadata": {},
   "outputs": [],
   "source": []
  }
 ],
 "metadata": {
  "kernelspec": {
   "display_name": "Python 3 (ipykernel)",
   "language": "python",
   "name": "python3"
  },
  "language_info": {
   "codemirror_mode": {
    "name": "ipython",
    "version": 3
   },
   "file_extension": ".py",
   "mimetype": "text/x-python",
   "name": "python",
   "nbconvert_exporter": "python",
   "pygments_lexer": "ipython3",
   "version": "3.12.4"
  }
 },
 "nbformat": 4,
 "nbformat_minor": 5
}
